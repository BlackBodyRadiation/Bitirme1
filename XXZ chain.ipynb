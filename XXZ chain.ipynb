{
 "cells": [
  {
   "cell_type": "code",
   "execution_count": 439,
   "metadata": {},
   "outputs": [],
   "source": [
    "using QuantumOptics"
   ]
  },
  {
   "cell_type": "code",
   "execution_count": 612,
   "metadata": {},
   "outputs": [],
   "source": [
    "using Printf\n",
    "using LinearAlgebra\n",
    "\n",
    "using Plots"
   ]
  },
  {
   "cell_type": "code",
   "execution_count": 585,
   "metadata": {},
   "outputs": [
    {
     "data": {
      "text/plain": [
       "Operator(dim=4x4)\n",
       "  basis: [Spin(1/2) ⊗ Spin(1/2)]\n",
       " 1.0+0.0im       ⋅           ⋅          ⋅    \n",
       "     ⋅      -1.0+0.0im       ⋅          ⋅    \n",
       "     ⋅           ⋅      -1.0+0.0im      ⋅    \n",
       "     ⋅           ⋅           ⋅      1.0-0.0im"
      ]
     },
     "execution_count": 585,
     "metadata": {},
     "output_type": "execute_result"
    }
   ],
   "source": [
    "b = SpinBasis(1//2)\n",
    "sx = sigmax(b)\n",
    "sy = sigmay(b)\n",
    "sz = sigmaz(b)\n",
    "XX = sx ⊗ sx \n",
    "YY = sy ⊗ sy \n",
    "ZZ = sz ⊗ sz"
   ]
  },
  {
   "cell_type": "code",
   "execution_count": 586,
   "metadata": {},
   "outputs": [
    {
     "data": {
      "text/plain": [
       "-1"
      ]
     },
     "execution_count": 586,
     "metadata": {},
     "output_type": "execute_result"
    }
   ],
   "source": [
    "Jxy=-1\n",
    "Jz=-1"
   ]
  },
  {
   "cell_type": "code",
   "execution_count": 587,
   "metadata": {},
   "outputs": [
    {
     "data": {
      "text/plain": [
       "basis (generic function with 1 method)"
      ]
     },
     "execution_count": 587,
     "metadata": {},
     "output_type": "execute_result"
    }
   ],
   "source": [
    "function basis(N)    \n",
    "    spinchain=b\n",
    "    for ispin in 2:N\n",
    "        spinchain = spinchain ⊗ b\n",
    "        \n",
    "    end\n",
    "    return spinchain # same local\n",
    "end"
   ]
  },
  {
   "cell_type": "code",
   "execution_count": 588,
   "metadata": {},
   "outputs": [
    {
     "data": {
      "text/plain": [
       "[Spin(1/2) ⊗ Spin(1/2) ⊗ Spin(1/2) ⊗ Spin(1/2) ⊗ Spin(1/2) ⊗ Spin(1/2)]"
      ]
     },
     "execution_count": 588,
     "metadata": {},
     "output_type": "execute_result"
    }
   ],
   "source": [
    "basis(6)    "
   ]
  },
  {
   "cell_type": "code",
   "execution_count": 589,
   "metadata": {},
   "outputs": [
    {
     "data": {
      "text/plain": [
       "CrtModelH (generic function with 1 method)"
      ]
     },
     "execution_count": 589,
     "metadata": {},
     "output_type": "execute_result"
    }
   ],
   "source": [
    "function CrtModelH(N)\n",
    "    HXXZ = embed(basis(N), [1,2] , Jxy*(XX+YY)+Jz*ZZ)\n",
    "    for s in 2:N-1\n",
    "        HXXZ += embed(basis(N), [s,s+1] , Jxy*(XX+YY)+Jz*ZZ)\n",
    "    end\n",
    "    return HXXZ\n",
    "end"
   ]
  },
  {
   "cell_type": "code",
   "execution_count": 590,
   "metadata": {},
   "outputs": [
    {
     "data": {
      "text/plain": [
       "Operator(dim=8x8)\n",
       "  basis: [Spin(1/2) ⊗ Spin(1/2) ⊗ Spin(1/2)]\n",
       " -2.0+0.0im       ⋅           ⋅      …       ⋅           ⋅           ⋅    \n",
       "      ⋅           ⋅      -2.0+0.0im          ⋅           ⋅           ⋅    \n",
       "      ⋅      -2.0+0.0im   2.0+0.0im          ⋅           ⋅           ⋅    \n",
       "      ⋅           ⋅           ⋅         -2.0+0.0im       ⋅           ⋅    \n",
       "      ⋅           ⋅      -2.0+0.0im          ⋅           ⋅           ⋅    \n",
       "      ⋅           ⋅           ⋅      …   2.0+0.0im  -2.0+0.0im       ⋅    \n",
       "      ⋅           ⋅           ⋅         -2.0+0.0im       ⋅           ⋅    \n",
       "      ⋅           ⋅           ⋅              ⋅           ⋅      -2.0+0.0im"
      ]
     },
     "execution_count": 590,
     "metadata": {},
     "output_type": "execute_result"
    }
   ],
   "source": [
    "CrtModelH(3)"
   ]
  },
  {
   "cell_type": "code",
   "execution_count": 613,
   "metadata": {},
   "outputs": [
    {
     "data": {
      "text/plain": [
       "solvemodl (generic function with 1 method)"
      ]
     },
     "execution_count": 613,
     "metadata": {},
     "output_type": "execute_result"
    }
   ],
   "source": [
    "function solvemodl(N)\n",
    "    E5 = eigenenergies(CrtModel(N), 5)\n",
    "    println(\" \")\n",
    "    #println(\"Lowest five eigenvalues\");\n",
    "    #println(E5);\n",
    "    println(\" \")\n",
    "    println(\" \")\n",
    "    # full spectrum\n",
    "    EE, UU = eigenstates(dense(CrtModel(N)))\n",
    "    println(\" \")\n",
    "    #println(\"All Eigenvalues\");\n",
    "    #println(EE);\n",
    "    println(\" \")\n",
    "    return E5\n",
    "end"
   ]
  },
  {
   "cell_type": "code",
   "execution_count": 616,
   "metadata": {},
   "outputs": [
    {
     "data": {
      "text/plain": [
       "printmodls (generic function with 1 method)"
      ]
     },
     "execution_count": 616,
     "metadata": {},
     "output_type": "execute_result"
    }
   ],
   "source": [
    "function printmodls(N)\n",
    "    n=Any[]\n",
    "    for i in 3:N\n",
    "        push!(n, solvemodl(i))\n",
    "    end\n",
    "    return n\n",
    "end\n",
    "        "
   ]
  },
  {
   "cell_type": "code",
   "execution_count": 618,
   "metadata": {},
   "outputs": [
    {
     "name": "stdout",
     "output_type": "stream",
     "text": [
      "INFO: Defaulting to sparse diagonalization.\n",
      "        If storing the full operator is possible, it might be faster to do\n",
      "        eigenstates(dense(op)). Set info=false to turn off this message.\n",
      " \n",
      " \n",
      " \n",
      " \n",
      " \n",
      "INFO: Defaulting to sparse diagonalization.\n",
      "        If storing the full operator is possible, it might be faster to do\n",
      "        eigenstates(dense(op)). Set info=false to turn off this message.\n",
      " \n",
      " \n",
      " \n",
      " \n",
      " \n",
      "INFO: Defaulting to sparse diagonalization.\n",
      "        If storing the full operator is possible, it might be faster to do\n",
      "        eigenstates(dense(op)). Set info=false to turn off this message.\n",
      " \n",
      " \n",
      " \n",
      " \n",
      " \n",
      "INFO: Defaulting to sparse diagonalization.\n",
      "        If storing the full operator is possible, it might be faster to do\n",
      "        eigenstates(dense(op)). Set info=false to turn off this message.\n",
      " \n",
      " \n",
      " \n",
      " \n",
      " \n",
      "INFO: Defaulting to sparse diagonalization.\n",
      "        If storing the full operator is possible, it might be faster to do\n",
      "        eigenstates(dense(op)). Set info=false to turn off this message.\n",
      " \n",
      " \n",
      " \n",
      " \n",
      " \n"
     ]
    },
    {
     "data": {
      "text/plain": [
       "5-element Vector{Any}:\n",
       " ComplexF64[-2.0000000000000004 + 6.793646544346732e-17im, -2.0 - 1.666968745518148e-17im, -2.0 - 4.72093600251449e-17im, -1.9999999999999991 + 1.8697904794936096e-18im, -1.9205147603623786e-16 + 7.161429487565065e-18im]\n",
       " ComplexF64[-3.0 + 1.7049079162334557e-17im, -3.0 + 2.7694589243426604e-17im, -3.0 + 9.788878137652828e-17im, -2.999999999999999 + 2.168404344971009e-18im, -2.9999999999999947 + 1.7347234759771115e-17im]\n",
       " ComplexF64[-4.000000000000012 - 5.603338540264965e-17im, -4.0000000000000036 + 1.3252358875491361e-17im, -4.0000000000000036 - 1.4895047875398225e-17im, -4.000000000000002 - 2.2393973016588724e-17im, -4.0 - 1.1114305167169184e-16im]\n",
       " ComplexF64[-5.000000000000088 + 8.67374452411215e-18im, -5.000000000000088 + 1.2792709876411037e-17im, -5.000000000000039 + 2.00497117141763e-18im, -5.0000000000000355 + 8.813050184097613e-17im, -5.000000000000035 - 2.1582607798681064e-17im]\n",
       " ComplexF64[-6.000000000000217 + 5.691606382585446e-17im, -6.000000000000203 + 1.2857303436924299e-17im, -6.000000000000151 - 8.648714465363761e-17im, -6.000000000000115 - 2.5232199167868238e-17im, -6.000000000000097 + 1.1589801863172816e-16im]"
      ]
     },
     "execution_count": 618,
     "metadata": {},
     "output_type": "execute_result"
    }
   ],
   "source": [
    "v=printmodls(7)"
   ]
  },
  {
   "cell_type": "code",
   "execution_count": 598,
   "metadata": {},
   "outputs": [
    {
     "ename": "LoadError",
     "evalue": "syntax: character literal contains multiple characters",
     "output_type": "error",
     "traceback": [
      "syntax: character literal contains multiple characters",
      "",
      "Stacktrace:",
      " [1] top-level scope",
      "   @ In[598]:3",
      " [2] eval",
      "   @ ./boot.jl:360 [inlined]",
      " [3] include_string(mapexpr::typeof(REPL.softscope), mod::Module, code::String, filename::String)",
      "   @ Base ./loading.jl:1116"
     ]
    }
   ],
   "source": [
    "for j=1:5\n",
    "        x = 1:10; y = (printmodels[j], 5) # 2 columns means two lines\n",
    "        plot(x, y,`zguide`='default')\n",
    "    end"
   ]
  },
  {
   "cell_type": "code",
   "execution_count": 619,
   "metadata": {},
   "outputs": [
    {
     "ename": "LoadError",
     "evalue": "MethodError: objects of type Vector{Any} are not callable\nUse square brackets [] for indexing an Array.",
     "output_type": "error",
     "traceback": [
      "MethodError: objects of type Vector{Any} are not callable\nUse square brackets [] for indexing an Array.",
      "",
      "Stacktrace:",
      " [1] top-level scope",
      "   @ In[619]:1",
      " [2] eval",
      "   @ ./boot.jl:360 [inlined]",
      " [3] include_string(mapexpr::typeof(REPL.softscope), mod::Module, code::String, filename::String)",
      "   @ Base ./loading.jl:1116"
     ]
    }
   ],
   "source": [
    "plot( 3:7, v(1,:) )"
   ]
  },
  {
   "cell_type": "code",
   "execution_count": null,
   "metadata": {},
   "outputs": [],
   "source": []
  }
 ],
 "metadata": {
  "kernelspec": {
   "display_name": "Julia 1.6.2",
   "language": "julia",
   "name": "julia-1.6"
  },
  "language_info": {
   "file_extension": ".jl",
   "mimetype": "application/julia",
   "name": "julia",
   "version": "1.6.2"
  }
 },
 "nbformat": 4,
 "nbformat_minor": 4
}
